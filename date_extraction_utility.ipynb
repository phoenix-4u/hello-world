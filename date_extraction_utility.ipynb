{
  "nbformat": 4,
  "nbformat_minor": 0,
  "metadata": {
    "colab": {
      "name": "Untitled0.ipynb",
      "provenance": [],
      "authorship_tag": "ABX9TyNQF3x3wMAf1Y+eYjgBBvFp",
      "include_colab_link": true
    },
    "kernelspec": {
      "name": "python3",
      "display_name": "Python 3"
    }
  },
  "cells": [
    {
      "cell_type": "markdown",
      "metadata": {
        "id": "view-in-github",
        "colab_type": "text"
      },
      "source": [
        "<a href=\"https://colab.research.google.com/github/phoenix-4u/hello-world/blob/master/date_extraction_utility.ipynb\" target=\"_parent\"><img src=\"https://colab.research.google.com/assets/colab-badge.svg\" alt=\"Open In Colab\"/></a>"
      ]
    },
    {
      "cell_type": "code",
      "metadata": {
        "id": "2ddJ4pkBmY24",
        "colab_type": "code",
        "colab": {}
      },
      "source": [
        "import re\n",
        "\n",
        "def convert(row):\n",
        "    r=\"\"\n",
        "    try:\n",
        "        r = pd.to_datetime(row['date'][0])\n",
        "    except:\n",
        "        print(row)\n",
        "    return r\n",
        "\n",
        "def date_sorter():\n",
        "    #d3 = r'\\d{1,2}[-/]\\d{2,4}'\n",
        "    d1 = r'\\d{1,2}[-/]\\d{1,2}[-/]\\d{2,4}'\n",
        "    d2 = r'(?:\\d{1,2} )?(?:Jan|Feb|Mar|Apr|May|Jun|Jul|Aug|Sep|Oct|Nov|Dec)[a-z]*(?:[.,])?(?:[ ])?(?:\\d{1,2}[,]? )?(?:\\d{2,4})'\n",
        "    d3 = r'\\d{1,2}[-/]\\d{2,4}'\n",
        "    d4 = r'\\d{4}'\n",
        "\n",
        "    df1=pd.DataFrame()\n",
        "    df1['text']=df\n",
        "    df1['date'] = None\n",
        "    df1.reset_index(inplace=True)\n",
        "\n",
        "    \n",
        "    df1['date']=df1.apply(lambda row: re.findall(d1,row['text']),axis=1)\n",
        "    df2 = df1[df1['date'].str.len()>0]\n",
        "    df1 = df1[df1['date'].str.len()==0]\n",
        "    df2['date'] = df2.apply(convert,axis=1)\n",
        "    \n",
        "\n",
        "    df1['date']=df1.apply(lambda row: re.findall(d2,row['text']),axis=1)\n",
        "    df3 = df1[df1['date'].str.len()>0]\n",
        "    df1 = df1[df1['date'].str.len()==0]\n",
        "    df3.loc[313,'date'] = ['December 1978']\n",
        "    df3.loc[298,'date'] = ['January 1993']\n",
        "    df3['date'] = df3.apply(convert,axis=1)\n",
        "\n",
        "    \n",
        "    df1['date']=df1.apply(lambda row: re.findall(d3,row['text']),axis=1)\n",
        "    df4 = df1[df1['date'].str.len()>0]\n",
        "    df1 = df1[df1['date'].str.len()==0]\n",
        "    df4['date'] = df4.apply(convert,axis=1)\n",
        "\n",
        "    \n",
        "    df1['date']=df1.apply(lambda row: re.findall(d4,row['text']),axis=1)\n",
        "    df5 = df1[df1['date'].str.len()>0]\n",
        "    df1 = df1[df1['date'].str.len()==0]\n",
        "    df5['date'] = df5.apply(convert,axis=1)\n",
        "    \n",
        "    df1 = pd.concat([df2, df3,df4,df5])\n",
        "    \n",
        "    dff = df1.sort_values('date')\n",
        "    return pd.Series(dff.index)\n"
      ],
      "execution_count": null,
      "outputs": []
    }
  ]
}